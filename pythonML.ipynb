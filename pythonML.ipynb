{
 "cells": [
  {
   "cell_type": "markdown",
   "metadata": {},
   "source": [
    "# 2. Training Simple Machine Learning Algorithms for Classification"
   ]
  },
  {
   "cell_type": "code",
   "execution_count": 1,
   "metadata": {},
   "outputs": [],
   "source": [
    "import numpy as np\n",
    "class Perceptron(object):\n",
    "    '''Perceptron classifier.\n",
    "    \n",
    "    Parameters\n",
    "    -----------\n",
    "    ete : float\n",
    "      Learning rate (between 0.0 and 1.0)\n",
    "    n_iter : int\n",
    "      Passes over training data.\n",
    "    rand_state : int\n",
    "      Random number generator seed for replication of random\n",
    "      weight initialization.\n",
    "      \n",
    "    Attributes\n",
    "    -----------\n",
    "    w_ : 1d-array\n",
    "      Weights after fitting.\n",
    "    errors_ : list\n",
    "      Number of misclassifications (updates) in each epoch.\n",
    "      \n",
    "    '''\n",
    "    \n",
    "    def __init__(self, eta=0.1, n_iter=50, rand_state=2020):\n",
    "        self.eta = eta\n",
    "        self.n_iter = n_iter\n",
    "        self.rand_state = rand_state\n",
    "    \n",
    "    def fit(self, X, y):\n",
    "        '''Fit training data.\n",
    "        \n",
    "        Parameters\n",
    "        -----------\n",
    "        X : {array-like}, shape = [n_examples, n_features]\n",
    "          Training vectors of number of examples and features\n",
    "          are n_examples and n_features, respectively.\n",
    "        y : {array-like}, shape = [n_examples]\n",
    "          Target values.\n",
    "            \n",
    "        Returns\n",
    "        --------\n",
    "        self : object\n",
    "        \n",
    "        '''\n",
    "        rgen = np.random.RandomState(self.rand_state)\n",
    "        self.w_ = rgen.normal(loc=0.0, scale=0.01, size=1 + X.shape[1])\n",
    "        \n",
    "        self.errors_ = []\n",
    "        \n",
    "        for _ in range(self.n_iter):\n",
    "            errors = 0\n",
    "            for xi, yi in zip(X, y):\n",
    "                yi_bar = self.predict(xi)\n",
    "                update = self.eta*(yi - yi_bar)\n",
    "                self.w_[0] += update \n",
    "                self.w_[1:] += update*xi\n",
    "                errors += int(update != 0.0)\n",
    "            self.errors_.append(errors)\n",
    "        return self\n",
    "        \n",
    "    def net_input(self, X):\n",
    "        '''net input'''\n",
    "        return np.dot(X, self.w_[1:]) + 1*self.w_[0]\n",
    "    \n",
    "    def predict(self, X):\n",
    "        '''label after unit step'''\n",
    "        z = self.net_input(X)\n",
    "        return np.where(z >= 0.0, 1, -1)\n",
    "    "
   ]
  },
  {
   "cell_type": "code",
   "execution_count": 2,
   "metadata": {},
   "outputs": [
    {
     "data": {
      "text/html": [
       "<div>\n",
       "<style scoped>\n",
       "    .dataframe tbody tr th:only-of-type {\n",
       "        vertical-align: middle;\n",
       "    }\n",
       "\n",
       "    .dataframe tbody tr th {\n",
       "        vertical-align: top;\n",
       "    }\n",
       "\n",
       "    .dataframe thead th {\n",
       "        text-align: right;\n",
       "    }\n",
       "</style>\n",
       "<table border=\"1\" class=\"dataframe\">\n",
       "  <thead>\n",
       "    <tr style=\"text-align: right;\">\n",
       "      <th></th>\n",
       "      <th>0</th>\n",
       "      <th>1</th>\n",
       "      <th>2</th>\n",
       "      <th>3</th>\n",
       "      <th>4</th>\n",
       "    </tr>\n",
       "  </thead>\n",
       "  <tbody>\n",
       "    <tr>\n",
       "      <th>0</th>\n",
       "      <td>5.1</td>\n",
       "      <td>3.5</td>\n",
       "      <td>1.4</td>\n",
       "      <td>0.2</td>\n",
       "      <td>Iris-setosa</td>\n",
       "    </tr>\n",
       "    <tr>\n",
       "      <th>1</th>\n",
       "      <td>4.9</td>\n",
       "      <td>3.0</td>\n",
       "      <td>1.4</td>\n",
       "      <td>0.2</td>\n",
       "      <td>Iris-setosa</td>\n",
       "    </tr>\n",
       "    <tr>\n",
       "      <th>2</th>\n",
       "      <td>4.7</td>\n",
       "      <td>3.2</td>\n",
       "      <td>1.3</td>\n",
       "      <td>0.2</td>\n",
       "      <td>Iris-setosa</td>\n",
       "    </tr>\n",
       "    <tr>\n",
       "      <th>3</th>\n",
       "      <td>4.6</td>\n",
       "      <td>3.1</td>\n",
       "      <td>1.5</td>\n",
       "      <td>0.2</td>\n",
       "      <td>Iris-setosa</td>\n",
       "    </tr>\n",
       "    <tr>\n",
       "      <th>4</th>\n",
       "      <td>5.0</td>\n",
       "      <td>3.6</td>\n",
       "      <td>1.4</td>\n",
       "      <td>0.2</td>\n",
       "      <td>Iris-setosa</td>\n",
       "    </tr>\n",
       "  </tbody>\n",
       "</table>\n",
       "</div>"
      ],
      "text/plain": [
       "     0    1    2    3            4\n",
       "0  5.1  3.5  1.4  0.2  Iris-setosa\n",
       "1  4.9  3.0  1.4  0.2  Iris-setosa\n",
       "2  4.7  3.2  1.3  0.2  Iris-setosa\n",
       "3  4.6  3.1  1.5  0.2  Iris-setosa\n",
       "4  5.0  3.6  1.4  0.2  Iris-setosa"
      ]
     },
     "execution_count": 2,
     "metadata": {},
     "output_type": "execute_result"
    }
   ],
   "source": [
    "'''\n",
    "Import iris data from UCU ML rep \n",
    "'''\n",
    "import os\n",
    "import pandas as pd\n",
    "s = os.path.join('https://archive.ics.uci.edu', 'ml', 'machine-learning-databases', 'iris','iris.data')\n",
    "df = pd.read_csv(s, header=None, encoding='utf-8')\n",
    "df.head()          "
   ]
  },
  {
   "cell_type": "code",
   "execution_count": 3,
   "metadata": {},
   "outputs": [
    {
     "data": {
      "text/html": [
       "<div>\n",
       "<style scoped>\n",
       "    .dataframe tbody tr th:only-of-type {\n",
       "        vertical-align: middle;\n",
       "    }\n",
       "\n",
       "    .dataframe tbody tr th {\n",
       "        vertical-align: top;\n",
       "    }\n",
       "\n",
       "    .dataframe thead th {\n",
       "        text-align: right;\n",
       "    }\n",
       "</style>\n",
       "<table border=\"1\" class=\"dataframe\">\n",
       "  <thead>\n",
       "    <tr style=\"text-align: right;\">\n",
       "      <th></th>\n",
       "      <th>0</th>\n",
       "      <th>1</th>\n",
       "      <th>2</th>\n",
       "      <th>3</th>\n",
       "      <th>4</th>\n",
       "    </tr>\n",
       "  </thead>\n",
       "  <tbody>\n",
       "    <tr>\n",
       "      <th>145</th>\n",
       "      <td>6.7</td>\n",
       "      <td>3.0</td>\n",
       "      <td>5.2</td>\n",
       "      <td>2.3</td>\n",
       "      <td>Iris-virginica</td>\n",
       "    </tr>\n",
       "    <tr>\n",
       "      <th>146</th>\n",
       "      <td>6.3</td>\n",
       "      <td>2.5</td>\n",
       "      <td>5.0</td>\n",
       "      <td>1.9</td>\n",
       "      <td>Iris-virginica</td>\n",
       "    </tr>\n",
       "    <tr>\n",
       "      <th>147</th>\n",
       "      <td>6.5</td>\n",
       "      <td>3.0</td>\n",
       "      <td>5.2</td>\n",
       "      <td>2.0</td>\n",
       "      <td>Iris-virginica</td>\n",
       "    </tr>\n",
       "    <tr>\n",
       "      <th>148</th>\n",
       "      <td>6.2</td>\n",
       "      <td>3.4</td>\n",
       "      <td>5.4</td>\n",
       "      <td>2.3</td>\n",
       "      <td>Iris-virginica</td>\n",
       "    </tr>\n",
       "    <tr>\n",
       "      <th>149</th>\n",
       "      <td>5.9</td>\n",
       "      <td>3.0</td>\n",
       "      <td>5.1</td>\n",
       "      <td>1.8</td>\n",
       "      <td>Iris-virginica</td>\n",
       "    </tr>\n",
       "  </tbody>\n",
       "</table>\n",
       "</div>"
      ],
      "text/plain": [
       "       0    1    2    3               4\n",
       "145  6.7  3.0  5.2  2.3  Iris-virginica\n",
       "146  6.3  2.5  5.0  1.9  Iris-virginica\n",
       "147  6.5  3.0  5.2  2.0  Iris-virginica\n",
       "148  6.2  3.4  5.4  2.3  Iris-virginica\n",
       "149  5.9  3.0  5.1  1.8  Iris-virginica"
      ]
     },
     "execution_count": 3,
     "metadata": {},
     "output_type": "execute_result"
    }
   ],
   "source": [
    "df.tail()"
   ]
  },
  {
   "cell_type": "code",
   "execution_count": 4,
   "metadata": {},
   "outputs": [
    {
     "data": {
      "text/plain": [
       "<Figure size 640x480 with 1 Axes>"
      ]
     },
     "metadata": {},
     "output_type": "display_data"
    }
   ],
   "source": [
    "import matplotlib.pyplot as plt\n",
    "y = df.iloc[0:100, 4].values\n",
    "y = np.where(y == 'Iris-setosa', -1, 1)\n",
    "\n",
    "X = df.iloc[0:100, [0, 2]].values\n",
    "\n",
    "ppn = Perceptron(eta=0.01, n_iter=10)\n",
    "ppn.fit(X,y)\n",
    "\n",
    "plt.plot(range(1, len(ppn.errors_) + 1), ppn.errors_, marker='o')\n",
    "plt.xlabel('Epochs')\n",
    "plt.ylabel('Number of updates')\n",
    "plt.show()"
   ]
  },
  {
   "cell_type": "code",
   "execution_count": 5,
   "metadata": {},
   "outputs": [],
   "source": [
    "import numpy as np\n",
    "class AdalineGradientDescent(object):\n",
    "    '''Adaline classifier.\n",
    "    \n",
    "    Parameters\n",
    "    -----------\n",
    "    \n",
    "    eta : float\n",
    "      Learning rate (between 0.0 and 1.0).\n",
    "    n_iter : int\n",
    "      Passes over the training dataset.\n",
    "    rand_state: int\n",
    "      Random number generator seed for replication of random\n",
    "      weight initialization.\n",
    "    \n",
    "    Attributes\n",
    "    -----------\n",
    "    w_ : 1d-array\n",
    "      Weights after fitting.\n",
    "    cost_ : list\n",
    "      SES cost funtion value in each epoch\n",
    "    \n",
    "    '''\n",
    "    \n",
    "    def __init__(self, eta=0.01, n_iter=50, rand_state=2020):\n",
    "        self.eta = eta\n",
    "        self.n_iter = n_iter\n",
    "        self.rand_state = rand_state\n",
    "        \n",
    "    def fit(self, X, y):\n",
    "        '''Fit training data.\n",
    "        \n",
    "        Parameters\n",
    "        -----------\n",
    "        X : {array-like}, shape = [n_examples, n_features]\n",
    "          Training vectors of number of examples and features\n",
    "          are n_examples and n_features, respectively.\n",
    "        y : {array-like}, shape = [n_examples]\n",
    "          Target values.\n",
    "            \n",
    "        Returns\n",
    "        --------\n",
    "        self : object\n",
    "        \n",
    "        '''\n",
    "        rgen = np.random.RandomState(self.rand_state)\n",
    "        self.w_ = rgen.normal(loc=0.0, scale=0.01, size=1+X.shape[1])\n",
    "        self.cost_ = []\n",
    "        \n",
    "        for i in range(self.n_iter):\n",
    "            net_input = self.net_input(X)\n",
    "            output = self.activation(net_input)\n",
    "            errors = (y - output)\n",
    "            self.w_[1:] += self.eta * X.T.dot(errors)\n",
    "            self.w_[0] += self.eta*errors.sum()\n",
    "            cost = 0.5*(errors**2).sum()\n",
    "            self.cost_.append(cost)\n",
    "        return self\n",
    "            \n",
    "            \n",
    "    def net_input(self, X):\n",
    "        '''net input'''\n",
    "        return np.dot(X, self.w_[1:]) + self.w_[0]\n",
    "    \n",
    "    def activation(self, X):\n",
    "        '''Compute linear activation'''\n",
    "        return X\n",
    "    \n",
    "    def predict(self, X):\n",
    "        '''label after unit step'''\n",
    "        z = self.activation(self.net_input(X))\n",
    "        return np.where(z >= 0.0, 1, -1)"
   ]
  },
  {
   "cell_type": "code",
   "execution_count": 6,
   "metadata": {},
   "outputs": [
    {
     "data": {
      "image/png": "[encoded data removed]",
      "text/plain": [
       "<Figure size 720x288 with 2 Axes>"
      ]
     },
     "metadata": {},
     "output_type": "display_data"
    }
   ],
   "source": [
    "fig, ax = plt.subplots(nrows=1, ncols=2, figsize=(10,4))\n",
    "ada1 = AdalineGradientDescent(eta=0.01, n_iter=10).fit(X,y)\n",
    "ax[0].plot(range(1, len(ada1.cost_) + 1), np.log10(ada1.cost_), marker='o')\n",
    "ax[0].set_xlabel('Epochs')\n",
    "ax[0].set_ylabel('log(SES)')\n",
    "ax[0].set_title('Adaline - Learning rate 0.01')\n",
    "\n",
    "ada2 = AdalineGradientDescent(eta=0.0001, n_iter=10).fit(X,y)\n",
    "ax[1].plot(range(1, len(ada2.cost_) + 1), ada2.cost_, marker='o')\n",
    "ax[1].set_xlabel('Epochs')\n",
    "ax[1].set_ylabel('SES')\n",
    "ax[1].set_title('Adaline - Learning rate 0.0001')\n",
    "\n",
    "plt.show()"
   ]
  },
  {
   "cell_type": "markdown",
   "metadata": {},
   "source": [
    "#### Standardization "
   ]
  },
  {
   "cell_type": "code",
   "execution_count": 7,
   "metadata": {},
   "outputs": [],
   "source": [
    "X_std = np.copy(X)\n",
    "X_std[:,0] = (X[:,0] - X[:,0].mean()) / X[:,0].std()\n",
    "X_std[:,1] = (X[:,1] - X[:,1].mean()) / X[:,1].std()"
   ]
  },
  {
   "cell_type": "code",
   "execution_count": 8,
   "metadata": {},
   "outputs": [
    {
     "data": {
      "text/plain": [
       "Text(0.5, 1.0, 'Adaline std data - Learning rate 0.0001')"
      ]
     },
     "execution_count": 8,
     "metadata": {},
     "output_type": "execute_result"
    },
    {
     "data": {
      "image/png": "[encoded data removed]",
      "text/plain": [
       "<Figure size 720x288 with 2 Axes>"
      ]
     },
     "metadata": {},
     "output_type": "display_data"
    }
   ],
   "source": [
    "fig, ax = plt.subplots(nrows=1, ncols=2, figsize=(10,4))\n",
    "ada1_gdStd = AdalineGradientDescent(eta=0.01, n_iter=10).fit(X_std,y)\n",
    "ax[0].plot(range(1, len(ada1_gdStd.cost_) + 1), ada1_gdStd.cost_, marker='o')\n",
    "ax[0].set_xlabel('Epochs')\n",
    "ax[0].set_ylabel('SES')\n",
    "ax[0].set_title('Adaline std data - Learning rate 0.01')\n",
    "\n",
    "ada2_gdStd = AdalineGradientDescent(eta=0.01, n_iter=10).fit(X_std, y)\n",
    "ax[1].plot(range(1, len(ada2_gdStd.cost_) + 1), ada2_gdStd.cost_, marker='o')\n",
    "ax[1].set_xlabel('Epochs')\n",
    "ax[1].set_ylabel('SES')\n",
    "ax[1].set_title('Adaline std data - Learning rate 0.0001')"
   ]
  },
  {
   "cell_type": "code",
   "execution_count": 9,
   "metadata": {},
   "outputs": [],
   "source": [
    "from matplotlib.colors import ListedColormap\n",
    "def plot_decision_regions(X, y, classifier, resolution=0.02):\n",
    "    # setup marker generator and color map\n",
    "    markers = ('s', 'x', 'o', '^', 'v')\n",
    "    colors = ('red', 'blue', 'lightgreen', 'gray', 'cyan')\n",
    "    cmap = ListedColormap(colors[:len(np.unique(y))])\n",
    "    \n",
    "    # plot the decision surface\n",
    "    x1_min, x1_max = X[:, 0].min() - 1, X[:, 0].max() + 1\n",
    "    x2_min, x2_max = X[:, 1].min() - 1, X[:, 1].max() + 1\n",
    "    xx1, xx2 = np.meshgrid(np.arange(x1_min, x1_max, resolution),\n",
    "                           np.arange(x2_min, x2_max, resolution))\n",
    "    Z = classifier.predict(np.array([xx1.ravel(), xx2.ravel()]).T)\n",
    "    Z = Z.reshape(xx1.shape)\n",
    "    plt.contourf(xx1, xx2, Z, alpha=0.3, cmap=cmap)\n",
    "    plt.xlim(xx1.min(), xx1.max())\n",
    "    plt.ylim(xx2.min(), xx2.max())\n",
    "    \n",
    "    # plot class examples\n",
    "    for idx, cl in enumerate(np.unique(y)):\n",
    "         plt.scatter(x=X[y == cl, 0],\n",
    "                     y=X[y == cl, 1],\n",
    "                     alpha=0.8,\n",
    "                     c=colors[idx],\n",
    "                     marker=markers[idx],\n",
    "                     label=cl,\n",
    "                     edgecolor='black')"
   ]
  },
  {
   "cell_type": "code",
   "execution_count": 10,
   "metadata": {},
   "outputs": [
    {
     "data": {
      "image/png": "[encoded data removed]",
      "text/plain": [
       "<Figure size 432x288 with 1 Axes>"
      ]
     },
     "metadata": {},
     "output_type": "display_data"
    }
   ],
   "source": [
    "plot_decision_regions(X_std, y, classifier=ada1_gdStd)\n",
    "plt.title('Adaline - Gradient Descent')\n",
    "plt.xlabel('sepal length [standardized]')\n",
    "plt.ylabel('petal length [standardized]')\n",
    "plt.legend(loc='upper left')\n",
    "plt.tight_layout()\n",
    "plt.show()"
   ]
  },
  {
   "cell_type": "markdown",
   "metadata": {},
   "source": [
    "### Stochastic Gradient Descent  (SGD)"
   ]
  },
  {
   "cell_type": "code",
   "execution_count": 11,
   "metadata": {},
   "outputs": [],
   "source": [
    "import numpy as np\n",
    "class AdalineStochasticGradientDescent(object):\n",
    "    '''Adaline classifier.\n",
    "    \n",
    "    Parameters\n",
    "    -----------\n",
    "    \n",
    "    eta : float\n",
    "      Learning rate (between 0.0 and 1.0).\n",
    "    n_iter : int\n",
    "      Passes over the training dataset.\n",
    "    rand_state: int\n",
    "      Random number generator seed for replication of random\n",
    "      weight initialization.\n",
    "    \n",
    "    shuffle : bool (default: True)\n",
    "      Shuffles training data every epoch if True to prevent\n",
    "      cycles.\n",
    "    \n",
    "    Attributes\n",
    "    -----------\n",
    "    w_ : 1d-array\n",
    "      Weights after fitting.\n",
    "    cost_ : list\n",
    "      SES cost funtion value in each epoch\n",
    "    \n",
    "    '''\n",
    "    \n",
    "    def __init__(self, eta=0.01, n_iter=50, rand_state=2020, shuffle=True, adaptive=True):\n",
    "        self.eta = eta\n",
    "        self.n_iter = n_iter\n",
    "        self.rand_state = rand_state\n",
    "        self.w_intialized = False\n",
    "        self.shuffle = shuffle\n",
    "        self.adaptive = adaptive\n",
    "        \n",
    "    def fit(self, X, y):\n",
    "        '''Fit training data.\n",
    "        \n",
    "        Parameters\n",
    "        -----------\n",
    "        X : {array-like}, shape = [n_examples, n_features]\n",
    "          Training vectors of number of examples and features\n",
    "          are n_examples and n_features, respectively.\n",
    "        y : {array-like}, shape = [n_examples]\n",
    "          Target values.\n",
    "            \n",
    "        Returns\n",
    "        --------\n",
    "        self : object\n",
    "        \n",
    "        '''\n",
    "        self._initialize_weights(X.shape[1])\n",
    "        self.cost_ = []\n",
    "        \n",
    "        for i in range(self.n_iter):\n",
    "            if self.shuffle:\n",
    "                X, y = self._shuffle(X, y)\n",
    "                cost = []\n",
    "                for xi, target in zip(X,y):\n",
    "                    cost.append(self._update_weights(xi, target))\n",
    "                avg_cost = sum(cost)/len(y)\n",
    "                self.cost_.append(avg_cost)\n",
    "        return self\n",
    "    \n",
    "    def partial_fit(self, X, y):\n",
    "        '''Fit training data without reinitializing the weights'''\n",
    "        if not self.w_intialized:\n",
    "            self._initialize_weights(X.shape[1])\n",
    "        if y.ravel().shape(0) > 1:\n",
    "            for xi, target in zip(X, y):\n",
    "                self._update_weights(xi, target)\n",
    "        else:\n",
    "            self._update_weights(X, y)\n",
    "        return self\n",
    "    \n",
    "    def _shuffle(self, X, y):\n",
    "        '''Shuffle training data'''\n",
    "        r = self.rgen.permutation(len(y))\n",
    "        return X[r], y[r]\n",
    "    \n",
    "    def _initialize_weights(self, m):\n",
    "        '''Initialize weights to small random numbers'''\n",
    "        self.rgen = np.random.RandomState(self.rand_state)\n",
    "        self.w_ = self.rgen.normal(loc=0.0, scale=0.01, size=1+m)\n",
    "        self.w_intialized = True\n",
    "        \n",
    "    def _update_weights(self, xi, target):\n",
    "        '''Apply Adaline learning rule to update the weights'''\n",
    "        output = self.activation(self.net_input(xi))\n",
    "        error = (target - output)\n",
    "        self.w_[1:] += self.eta * xi.dot(error)\n",
    "        self.w_[0] += self.eta*error\n",
    "        cost = 0.5*error**2\n",
    "        return cost\n",
    "    \n",
    "    def net_input(self, X):\n",
    "        '''net input'''\n",
    "        return np.dot(X, self.w_[1:]) + self.w_[0]\n",
    "    \n",
    "    def activation(self, X):\n",
    "        '''Compute linear activation'''\n",
    "        return X\n",
    "    \n",
    "    def predict(self, X):\n",
    "        '''label after unit step'''\n",
    "        z = self.activation(self.net_input(X))\n",
    "        return np.where(z >= 0.0, 1, -1)"
   ]
  },
  {
   "cell_type": "code",
   "execution_count": 12,
   "metadata": {},
   "outputs": [
    {
     "data": {
      "image/png": "[encoded data removed]",
      "text/plain": [
       "<Figure size 432x288 with 1 Axes>"
      ]
     },
     "metadata": {},
     "output_type": "display_data"
    },
    {
     "data": {
      "image/png": "[encoded data removed]",
      "text/plain": [
       "<Figure size 432x288 with 1 Axes>"
      ]
     },
     "metadata": {},
     "output_type": "display_data"
    }
   ],
   "source": [
    "ada_sgd = AdalineStochasticGradientDescent(eta=0.01, n_iter=15, rand_state=2020).fit(X_std, y)\n",
    "plot_decision_regions(X_std, y, classifier=ada_sgd)\n",
    "plt.title('Adaline -Stochastic Gradient Descent')\n",
    "plt.xlabel('sepal length [standardized]')\n",
    "plt.ylabel('petal length [standardized]')\n",
    "plt.legend(loc='upper left')\n",
    "plt.tight_layout()\n",
    "plt.show()\n",
    "\n",
    "plt.plot(range(1, len(ada_sgd.cost_) + 1), ada_sgd.cost_, marker='o')\n",
    "plt.xlabel('Epochs')\n",
    "plt.ylabel('Average Cost')\n",
    "plt.tight_layout()\n",
    "plt.show()"
   ]
  },
  {
   "cell_type": "markdown",
   "metadata": {},
   "source": [
    "#### Adaptive Learning Rate"
   ]
  },
  {
   "cell_type": "code",
   "execution_count": 14,
   "metadata": {},
   "outputs": [],
   "source": [
    "import numpy as np\n",
    "class AdalineAdaptiveSGD(object):\n",
    "    '''Adaline classifier.\n",
    "    \n",
    "    Parameters\n",
    "    -----------\n",
    "    \n",
    "    eta : float\n",
    "      Adaptive changes with respect to number of iterations.\n",
    "    n_iter : int\n",
    "      Passes over the training dataset.\n",
    "    rand_state: int\n",
    "      Random number generator seed for replication of random\n",
    "      weight initialization.\n",
    "    \n",
    "    shuffle : bool (default: True)\n",
    "      Shuffles training data every epoch if True to prevent\n",
    "      cycles.\n",
    "    \n",
    "    Attributes\n",
    "    -----------\n",
    "    w_ : 1d-array\n",
    "      Weights after fitting.\n",
    "    cost_ : list\n",
    "      SES cost funtion value in each epoch\n",
    "    \n",
    "    '''\n",
    "    \n",
    "    def __init__(self, eta=0.01, n_iter=50, rand_state=2020, shuffle=True, adaptive=True):\n",
    "        self.eta = eta\n",
    "        self.n_iter = n_iter\n",
    "        self.rand_state = rand_state\n",
    "        self.w_intialized = False\n",
    "        self.shuffle = shuffle\n",
    "        self.adaptive = adaptive\n",
    "        \n",
    "    def fit(self, X, y):\n",
    "        '''Fit training data.\n",
    "        \n",
    "        Parameters\n",
    "        -----------\n",
    "        X : {array-like}, shape = [n_examples, n_features]\n",
    "          Training vectors of number of examples and features\n",
    "          are n_examples and n_features, respectively.\n",
    "        y : {array-like}, shape = [n_examples]\n",
    "          Target values.\n",
    "            \n",
    "        Returns\n",
    "        --------\n",
    "        self : object\n",
    "        \n",
    "        '''\n",
    "        self._initialize_weights(X.shape[1])\n",
    "        self.cost_ = []\n",
    "        \n",
    "        for i in range(self.n_iter):\n",
    "            if self.adaptive:\n",
    "                #self.eta = 1/(100+i)\n",
    "                '''c1 = 1, c2 = 100,  also why didn't some inverse \n",
    "                logarithmic function give good performance ??'''\n",
    "                self.eta = 1/(1+np.exp(i))\n",
    "\n",
    "            if self.shuffle:\n",
    "                X, y = self._shuffle(X, y)\n",
    "                cost = []\n",
    "                for xi, target in zip(X,y):\n",
    "                    cost.append(self._update_weights(xi, target))\n",
    "                avg_cost = sum(cost)/len(y)\n",
    "                self.cost_.append(avg_cost)\n",
    "        return self\n",
    "    \n",
    "    def partial_fit(self, X, y):\n",
    "        '''Fit training data without reinitializing the weights'''\n",
    "        if not self.w_intialized:\n",
    "            self._initialize_weights(X.shape[1])\n",
    "        if y.ravel().shape(0) > 1:\n",
    "            for xi, target in zip(X, y):\n",
    "                self._update_weights(xi, target)\n",
    "        else:\n",
    "            self._update_weights(X, y)\n",
    "        return self\n",
    "    \n",
    "    def _shuffle(self, X, y):\n",
    "        '''Shuffle training data'''\n",
    "        r = self.rgen.permutation(len(y))\n",
    "        return X[r], y[r]\n",
    "    \n",
    "    def _initialize_weights(self, m):\n",
    "        '''Initialize weights to small random numbers'''\n",
    "        self.rgen = np.random.RandomState(self.rand_state)\n",
    "        self.w_ = self.rgen.normal(loc=0.0, scale=0.01, size=1+m)\n",
    "        self.w_intialized = True\n",
    "        \n",
    "    def _update_weights(self, xi, target):\n",
    "        '''Apply Adaline learning rule to update the weights'''\n",
    "        output = self.activation(self.net_input(xi))\n",
    "        error = (target - output)\n",
    "        self.w_[1:] += self.eta * xi.dot(error)\n",
    "        self.w_[0] += self.eta*error\n",
    "        cost = 0.5*error**2\n",
    "        return cost\n",
    "    \n",
    "    def net_input(self, X):\n",
    "        '''net input'''\n",
    "        return np.dot(X, self.w_[1:]) + self.w_[0]\n",
    "    \n",
    "    def activation(self, X):\n",
    "        '''Compute linear activation'''\n",
    "        return X\n",
    "    \n",
    "    def predict(self, X):\n",
    "        '''label after unit step'''\n",
    "        z = self.activation(self.net_input(X))\n",
    "        return np.where(z >= 0.0, 1, -1)\n",
    "    "
   ]
  },
  {
   "cell_type": "code",
   "execution_count": 15,
   "metadata": {},
   "outputs": [
    {
     "data": {
      "image/png": "[encoded data removed]",
      "text/plain": [
       "<Figure size 432x288 with 1 Axes>"
      ]
     },
     "metadata": {},
     "output_type": "display_data"
    },
    {
     "data": {
      "image/png": "[encoded data removed]",
      "text/plain": [
       "<Figure size 432x288 with 1 Axes>"
      ]
     },
     "metadata": {},
     "output_type": "display_data"
    }
   ],
   "source": [
    "adap_sgd = AdalineAdaptiveSGD(eta=0.01, n_iter=10, rand_state=2020, adaptive=True).fit(X_std, y)\n",
    "plot_decision_regions(X_std, y, classifier=adap_sgd)\n",
    "plt.title('Adaline - Adaptive rate Stochastic Gradient Descent')\n",
    "plt.xlabel('sepal length [standardized]')\n",
    "plt.ylabel('petal length [standardized]')\n",
    "plt.legend(loc='upper left')\n",
    "plt.tight_layout()\n",
    "plt.show()\n",
    "\n",
    "plt.plot(range(1, len(adap_sgd.cost_) + 1), adap_sgd.cost_, marker='o')\n",
    "plt.xlabel('Epochs')\n",
    "plt.ylabel('Average Cost')\n",
    "plt.tight_layout()\n",
    "plt.show()"
   ]
  },
  {
   "cell_type": "markdown",
   "metadata": {},
   "source": [
    "## 3. A Tour of Machine Learning Classifiers Using scikit-learn"
   ]
  },
  {
   "cell_type": "code",
   "execution_count": 16,
   "metadata": {},
   "outputs": [],
   "source": [
    "from sklearn import datasets\n",
    "import numpy as np"
   ]
  },
  {
   "cell_type": "code",
   "execution_count": 17,
   "metadata": {},
   "outputs": [
    {
     "name": "stdout",
     "output_type": "stream",
     "text": [
      "Class labels: [0 1 2]\n"
     ]
    }
   ],
   "source": [
    "iris = datasets.load_iris()\n",
    "X = iris.data[:, [2, 3]]\n",
    "y = iris.target\n",
    "print('Class labels:', np.unique(y))"
   ]
  },
  {
   "cell_type": "code",
   "execution_count": 18,
   "metadata": {},
   "outputs": [],
   "source": [
    "from sklearn.model_selection import train_test_split\n",
    "X_train, X_test, y_train, y_test = train_test_split(X, y, test_size=0.3, random_state=1, stratify=y)"
   ]
  },
  {
   "cell_type": "markdown",
   "metadata": {},
   "source": [
    "    random_state is used for the results reproducibility \n",
    "    stratify : makes sure that same proportion of class labels in training and test subsets as the input dataset \n",
    "### Is stratisfying before the split a good thing ? ?"
   ]
  },
  {
   "cell_type": "code",
   "execution_count": 19,
   "metadata": {},
   "outputs": [
    {
     "name": "stdout",
     "output_type": "stream",
     "text": [
      "Labels counts in y: [50 50 50]\n",
      "Labels counts in y_train: [35 35 35]\n",
      "Labels counts in y_test: [15 15 15]\n"
     ]
    }
   ],
   "source": [
    "print('Labels counts in y:' , np.bincount(y))\n",
    "print('Labels counts in y_train:', np.bincount(y_train))\n",
    "print('Labels counts in y_test:', np.bincount(y_test))"
   ]
  },
  {
   "cell_type": "code",
   "execution_count": 20,
   "metadata": {},
   "outputs": [],
   "source": [
    "'''Feature Scaling'''\n",
    "from sklearn.preprocessing import StandardScaler\n",
    "std = StandardScaler()\n",
    "std.fit(X_train) # estimating the mean and standard deviation for each feature of the training data\n",
    "X_train_std = std.transform(X_train)\n",
    "X_test_std = std.transform(X_test)"
   ]
  },
  {
   "cell_type": "code",
   "execution_count": 21,
   "metadata": {},
   "outputs": [
    {
     "name": "stderr",
     "output_type": "stream",
     "text": [
      "/anaconda3/lib/python3.6/site-packages/sklearn/linear_model/stochastic_gradient.py:166: FutureWarning: max_iter and tol parameters have been added in Perceptron in 0.19. If both are left unset, they default to max_iter=5 and tol=None. If tol is not None, max_iter defaults to max_iter=1000. From 0.21, default max_iter will be 1000, and default tol will be 1e-3.\n",
      "  FutureWarning)\n"
     ]
    },
    {
     "data": {
      "text/plain": [
       "Perceptron(alpha=0.0001, class_weight=None, early_stopping=False, eta0=0.1,\n",
       "      fit_intercept=True, max_iter=None, n_iter=None, n_iter_no_change=5,\n",
       "      n_jobs=None, penalty=None, random_state=1, shuffle=True, tol=None,\n",
       "      validation_fraction=0.1, verbose=0, warm_start=False)"
      ]
     },
     "execution_count": 21,
     "metadata": {},
     "output_type": "execute_result"
    }
   ],
   "source": [
    "from sklearn.linear_model import Perceptron\n",
    "ppn = Perceptron(eta0 = 0.1, random_state=1)\n",
    "ppn.fit(X_train_std, y_train)"
   ]
  },
  {
   "cell_type": "code",
   "execution_count": 22,
   "metadata": {},
   "outputs": [
    {
     "name": "stdout",
     "output_type": "stream",
     "text": [
      "Misclassified examples: 11\n"
     ]
    }
   ],
   "source": [
    "y_pred = ppn.predict(X_test_std)\n",
    "print('Misclassified examples: %d' % (y_test != y_pred).sum())"
   ]
  },
  {
   "cell_type": "code",
   "execution_count": 23,
   "metadata": {},
   "outputs": [
    {
     "name": "stdout",
     "output_type": "stream",
     "text": [
      "Accuracy: 0.756\n"
     ]
    }
   ],
   "source": [
    "from sklearn.metrics import accuracy_score\n",
    "print('Accuracy: %.3f' % accuracy_score(y_test, y_pred))"
   ]
  },
  {
   "cell_type": "code",
   "execution_count": 44,
   "metadata": {},
   "outputs": [],
   "source": [
    "from matplotlib.colors import ListedColormap\n",
    "import matplotlib.pyplot as plt\n",
    "\n",
    "def plot_decision_regions(X, y, classifier, test_idx=None,                          \n",
    "                      resolution=0.02):    \n",
    "    # setup marker generator and color map    \n",
    "    markers = ('s', 'x', 'o', '^', 'v')    \n",
    "    colors = ('red', 'blue', 'lightgreen', 'gray', 'cyan')    \n",
    "    cmap = ListedColormap(colors[:len(np.unique(y))])        \n",
    "    # plot the decision surface    \n",
    "    x1_min, x1_max = X[:, 0].min() - 1, X[:, 0].max() + 1    \n",
    "    x2_min, x2_max = X[:, 1].min() - 1, X[:, 1].max() + 1    \n",
    "    xx1, xx2 = np.meshgrid(np.arange(x1_min, x1_max, resolution),                           \n",
    "                           np.arange(x2_min, x2_max, resolution))    \n",
    "    Z = classifier.predict(np.array([xx1.ravel(), xx2.ravel()]).T)    \n",
    "    Z = Z.reshape(xx1.shape)    \n",
    "    plt.contourf(xx1, xx2, Z, alpha=0.3, cmap=cmap)    \n",
    "    plt.xlim(xx1.min(), xx1.max())    \n",
    "    plt.ylim(xx2.min(), xx2.max())        \n",
    "    for idx, cl in enumerate(np.unique(y)):        \n",
    "        plt.scatter(x=X[y == cl, 0], y=X[y == cl, 1],                    \n",
    "                    alpha=0.8, c=colors[idx],                    \n",
    "                    marker=markers[idx], label=cl,                    \n",
    "                    edgecolor='black')        \n",
    "        # highlight test examples    \n",
    "        if test_idx:        \n",
    "            # plot all examples        \n",
    "            X_test, y_test = X[test_idx, :], y[test_idx]                \n",
    "            plt.scatter(X_test[:, 0], X_test[:, 1],                    \n",
    "                        c='', edgecolor='black', alpha=1.0,                   \n",
    "                        linewidth=1, marker='o',                    \n",
    "                        s=100, label='test set')"
   ]
  },
  {
   "cell_type": "code",
   "execution_count": 45,
   "metadata": {},
   "outputs": [
    {
     "data": {
      "image/png": "[encoded data removed]",
      "text/plain": [
       "<Figure size 432x288 with 1 Axes>"
      ]
     },
     "metadata": {},
     "output_type": "display_data"
    }
   ],
   "source": [
    "X_combine_std = np.vstack((X_train_std, X_test_std))\n",
    "y_combined = np.hstack((y_train, y_test))\n",
    "plot_decision_regions(X=X_combine_std,\n",
    "                      y=y_combined,\n",
    "                      classifier=ppn,\n",
    "                      test_idx=range(105, 150))\n",
    "plt.xlabel('petal lenght [standardized]')\n",
    "plt.ylabel('petal width [standardized]')\n",
    "plt.legend(loc='upper left')\n",
    "plt.tight_layout()\n",
    "plt.show()"
   ]
  },
  {
   "cell_type": "markdown",
   "metadata": {},
   "source": [
    "## Modeling class probabilities via logistic regression "
   ]
  },
  {
   "cell_type": "code",
   "execution_count": 26,
   "metadata": {},
   "outputs": [],
   "source": [
    "import matplotlib.pyplot as plt\n",
    "import numpy as np\n",
    "\n",
    "def sigmoid(z):\n",
    "    '''logistic sigmoid funtion'''\n",
    "    return 1.0/(1.0 + np.exp(-z))\n"
   ]
  },
  {
   "cell_type": "code",
   "execution_count": 32,
   "metadata": {},
   "outputs": [
    {
     "data": {
      "image/png": "[encoded data removed]",
      "text/plain": [
       "<Figure size 432x288 with 1 Axes>"
      ]
     },
     "metadata": {},
     "output_type": "display_data"
    }
   ],
   "source": [
    "z = np.arange(-7,7,0.1)\n",
    "phi_z = sigmoid(z)\n",
    "plt.plot(z, phi_z, color='r')\n",
    "plt.xlabel('z')\n",
    "plt.ylabel('$\\phi (z)$')\n",
    "plt.axvline(0.0, color='k')\n",
    "plt.yticks([0.0, 0.5, 1.0])\n",
    "plt.ylim(-0.1, 1.1)\n",
    "ax = plt.gca()\n",
    "ax.yaxis.grid(True)\n",
    "plt.tight_layout()\n",
    "plt.show()"
   ]
  },
  {
   "cell_type": "code",
   "execution_count": 33,
   "metadata": {},
   "outputs": [],
   "source": [
    "def cost_1(z):\n",
    "    return -np.log(sigmoid(z))\n",
    "def cost_0(z):\n",
    "    return -np.log(1-sigmoid(z))"
   ]
  },
  {
   "cell_type": "code",
   "execution_count": 35,
   "metadata": {},
   "outputs": [
    {
     "data": {
      "image/png": "[encoded data removed]",
      "text/plain": [
       "<Figure size 432x288 with 1 Axes>"
      ]
     },
     "metadata": {},
     "output_type": "display_data"
    }
   ],
   "source": [
    "z = np.arange(-10, 10, 0.1)\n",
    "phi_z = sigmoid(z)\n",
    "c1 = [cost_1(x) for x in z]\n",
    "plt.plot(phi_z, c1, label='J(w) if y=1')\n",
    "c0 = [cost_0(x) for x in z]\n",
    "plt.plot(phi_z, c0, label='J(w) if y=0', linestyle='--')\n",
    "plt.ylim(0.0, 5.1)\n",
    "plt.xlim(0, 1)\n",
    "plt.xlabel('$\\phi(z)$')\n",
    "plt.ylabel('J(w)')\n",
    "plt.legend(loc='best')\n",
    "plt.tight_layout()\n",
    "plt.show()"
   ]
  },
  {
   "cell_type": "code",
   "execution_count": 50,
   "metadata": {},
   "outputs": [],
   "source": [
    "import numpy as np\n",
    "class LogisticRegressionGradientDescent(object):\n",
    "    '''Logistic regression classifier using gradient descent.\n",
    "    \n",
    "    Parameters\n",
    "    -----------\n",
    "    \n",
    "    eta : float\n",
    "      Learning rate (between 0.0 and 1.0).\n",
    "    n_iter : int\n",
    "      Passes over the training dataset.\n",
    "    rand_state: int\n",
    "      Random number generator seed for replication of random\n",
    "      weight initialization.\n",
    "    \n",
    "    Attributes\n",
    "    -----------\n",
    "    w_ : 1d-array\n",
    "      Weights after fitting.\n",
    "    cost_ : list\n",
    "      SES cost funtion value in each epoch\n",
    "    \n",
    "    '''\n",
    "    \n",
    "    def __init__(self, eta=0.05, n_iter=100, rand_state=2020):\n",
    "        self.eta = eta\n",
    "        self.n_iter = n_iter\n",
    "        self.rand_state = rand_state\n",
    "        \n",
    "    def fit(self, X, y):\n",
    "        '''Fit training data.\n",
    "        \n",
    "        Parameters\n",
    "        -----------\n",
    "        X : {array-like}, shape = [n_examples, n_features]\n",
    "          Training vectors of number of examples and features\n",
    "          are n_examples and n_features, respectively.\n",
    "        y : {array-like}, shape = [n_examples]\n",
    "          Target values.\n",
    "            \n",
    "        Returns\n",
    "        --------\n",
    "        self : object\n",
    "        \n",
    "        '''\n",
    "        rgen = np.random.RandomState(self.rand_state)\n",
    "        self.w_ = rgen.normal(loc=0.0, scale=0.01, size=1+X.shape[1])\n",
    "        self.cost_ = []\n",
    "        \n",
    "        for i in range(self.n_iter):\n",
    "            net_input = self.net_input(X)\n",
    "            output = self.activation(net_input)\n",
    "            errors = (y - output)\n",
    "            self.w_[1:] += self.eta * X.T.dot(errors)\n",
    "            self.w_[0] += self.eta*errors.sum()\n",
    "            cost = (-y.dot(np.log(output)) - ((1-y).dot(np.log(1-output))))\n",
    "            self.cost_.append(cost)\n",
    "        return self\n",
    "            \n",
    "            \n",
    "    def net_input(self, X):\n",
    "        '''net input'''\n",
    "        return np.dot(X, self.w_[1:]) + self.w_[0]\n",
    "    \n",
    "    def activation(self, z):\n",
    "        '''Compute logistic sigmoid function'''\n",
    "        return 1.0/(1.0 + np.exp(-np.clip(z, -250, 250)))  # what is thiis ??\n",
    "    \n",
    "    def predict(self, X):\n",
    "        '''label after unit step'''\n",
    "        return np.where(self.net_input(X) >= 0.0, 1, 0)"
   ]
  },
  {
   "cell_type": "code",
   "execution_count": 51,
   "metadata": {},
   "outputs": [
    {
     "data": {
      "image/png": "[encoded data removed]",
      "text/plain": [
       "<Figure size 432x288 with 1 Axes>"
      ]
     },
     "metadata": {},
     "output_type": "display_data"
    }
   ],
   "source": [
    "X_train_01_subset = X_train[(y_train==0)|(y_train==1)]\n",
    "y_train_01_subset = y_train[(y_train==0)|(y_train==1)] # what is this doing ??\n",
    "\n",
    "lrgd = LogisticRegressionGradientDescent(eta=0.05, n_iter=1000, rand_state=1)\n",
    "lrgd.fit(X_train_01_subset, y_train_01_subset)\n",
    "plot_decision_regions(X=X_train_01_subset, y=y_train_01_subset, classifier=lrgd)\n",
    "plt.xlabel('petal lenght [standardized]')\n",
    "plt.ylabel('petal width [standardized]')\n",
    "plt.legend(loc='upper left')\n",
    "plt.tight_layout()\n",
    "plt.show()"
   ]
  },
  {
   "cell_type": "markdown",
   "metadata": {},
   "source": [
    "### Support Vector Machines (SVM)"
   ]
  }
 ],
 "metadata": {
  "kernelspec": {
   "display_name": "Python 3",
   "language": "python",
   "name": "python3"
  },
  "language_info": {
   "codemirror_mode": {
    "name": "ipython",
    "version": 3
   },
   "file_extension": ".py",
   "mimetype": "text/x-python",
   "name": "python",
   "nbconvert_exporter": "python",
   "pygments_lexer": "ipython3",
   "version": "3.6.8"
  }
 },
 "nbformat": 4,
 "nbformat_minor": 2
}
